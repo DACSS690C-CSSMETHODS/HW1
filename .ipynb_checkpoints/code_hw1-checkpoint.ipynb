{
 "cells": [
  {
   "cell_type": "markdown",
   "id": "de5aa9f3-f2e0-4949-8ae0-a6f0f0dad098",
   "metadata": {},
   "source": [
    "# Preparing the data\n",
    "\n",
    "1. Finding the best scheme to get 5 bins of the variable obesity. Remember the best is the one with the lowest ADCM. (In my tutorial pay attention to codes 29, 30 and 31.\n",
    "2. Use the scheme you found in the previous step to bin the columns on alcohol and tobacco. You already have those variables binned using FisherJenks, if the previous step recommends this same scheme, you do not need to redo the code for these variables, just use them. But if the previous step recommends a different one, you need to create new variables (lines 36 and 46 are useful for that).\n",
    "3. Find the countries that are doing the best in all three variables (I used line 48 in my tutorial to compute the worst countries in those two columns, use that as a reference now that you have three).\n",
    "4. The code for these first three steps has to be in one file named code_hw1.\n",
    "5. This code will create a new file, as some variables have been binned. Just rewrite the layer (see line 57). This time this map file will be in your local repo HW1_repo; then commit and push it to GitHub cloud."
   ]
  },
  {
   "cell_type": "code",
   "execution_count": 1,
   "id": "be57e57e-56ff-474f-b8fe-17d6d08a2cef",
   "metadata": {},
   "outputs": [],
   "source": [
    "mainLink = \"https://github.com/DACSS-CSSmeths/Spatial-Exploring/raw/refs/heads/main/maps/countriesCIA.gpkg\""
   ]
  },
  {
   "cell_type": "code",
   "execution_count": 2,
   "id": "47a49535-9ae7-4425-bb6b-b1a800b5c7cc",
   "metadata": {},
   "outputs": [
    {
     "data": {
      "text/html": [
       "<div>\n",
       "<style scoped>\n",
       "    .dataframe tbody tr th:only-of-type {\n",
       "        vertical-align: middle;\n",
       "    }\n",
       "\n",
       "    .dataframe tbody tr th {\n",
       "        vertical-align: top;\n",
       "    }\n",
       "\n",
       "    .dataframe thead th {\n",
       "        text-align: right;\n",
       "    }\n",
       "</style>\n",
       "<table border=\"1\" class=\"dataframe\">\n",
       "  <thead>\n",
       "    <tr style=\"text-align: right;\">\n",
       "      <th></th>\n",
       "      <th>name</th>\n",
       "      <th>geometry_type</th>\n",
       "    </tr>\n",
       "  </thead>\n",
       "  <tbody>\n",
       "    <tr>\n",
       "      <th>0</th>\n",
       "      <td>cia</td>\n",
       "      <td>MultiPolygon</td>\n",
       "    </tr>\n",
       "    <tr>\n",
       "      <th>1</th>\n",
       "      <td>border</td>\n",
       "      <td>MultiPolygon</td>\n",
       "    </tr>\n",
       "  </tbody>\n",
       "</table>\n",
       "</div>"
      ],
      "text/plain": [
       "     name geometry_type\n",
       "0     cia  MultiPolygon\n",
       "1  border  MultiPolygon"
      ]
     },
     "execution_count": 2,
     "metadata": {},
     "output_type": "execute_result"
    }
   ],
   "source": [
    "#exploring the layers in the file\n",
    "import geopandas as gpd \n",
    "\n",
    "gpd.list_layers(mainLink)"
   ]
  },
  {
   "cell_type": "code",
   "execution_count": 3,
   "id": "2eec9159-d514-4bca-b0e2-17e61af59121",
   "metadata": {},
   "outputs": [
    {
     "name": "stdout",
     "output_type": "stream",
     "text": [
      "<class 'geopandas.geodataframe.GeoDataFrame'>\n",
      "RangeIndex: 147 entries, 0 to 146\n",
      "Data columns (total 12 columns):\n",
      " #   Column                Non-Null Count  Dtype   \n",
      "---  ------                --------------  -----   \n",
      " 0   COUNTRY               147 non-null    object  \n",
      " 1   name                  147 non-null    object  \n",
      " 2   region                147 non-null    object  \n",
      " 3   obesityAdults_rate    147 non-null    float64 \n",
      " 4   TobaccoUse_perc       147 non-null    float64 \n",
      " 5   Alcohol_LitersPerCap  147 non-null    float64 \n",
      " 6   tobacco_code          147 non-null    int64   \n",
      " 7   tobacco_levels        147 non-null    object  \n",
      " 8   tobacco_custom        147 non-null    object  \n",
      " 9   alcohol_code          147 non-null    int64   \n",
      " 10  alcohol_levels        147 non-null    object  \n",
      " 11  geometry              147 non-null    geometry\n",
      "dtypes: float64(3), geometry(1), int64(2), object(6)\n",
      "memory usage: 13.9+ KB\n"
     ]
    }
   ],
   "source": [
    "#opening individual maps \n",
    "cia = gpd.read_file(mainLink, layer = 'cia')\n",
    "cia.info()"
   ]
  },
  {
   "cell_type": "code",
   "execution_count": 4,
   "id": "b5dc1e5f-bb9e-458d-a5e6-820656e8358a",
   "metadata": {},
   "outputs": [
    {
     "name": "stdout",
     "output_type": "stream",
     "text": [
      "<class 'geopandas.geodataframe.GeoDataFrame'>\n",
      "RangeIndex: 1 entries, 0 to 0\n",
      "Data columns (total 2 columns):\n",
      " #   Column    Non-Null Count  Dtype   \n",
      "---  ------    --------------  -----   \n",
      " 0   COUNTRY   1 non-null      object  \n",
      " 1   geometry  1 non-null      geometry\n",
      "dtypes: geometry(1), object(1)\n",
      "memory usage: 148.0+ bytes\n"
     ]
    }
   ],
   "source": [
    "border = gpd.read_file(mainLink, layer = 'border')\n",
    "border.info()"
   ]
  },
  {
   "cell_type": "code",
   "execution_count": 5,
   "id": "2c600bbf-0bc6-44eb-ada3-c91e4aa6d7be",
   "metadata": {},
   "outputs": [
    {
     "data": {
      "text/html": [
       "<div>\n",
       "<style scoped>\n",
       "    .dataframe tbody tr th:only-of-type {\n",
       "        vertical-align: middle;\n",
       "    }\n",
       "\n",
       "    .dataframe tbody tr th {\n",
       "        vertical-align: top;\n",
       "    }\n",
       "\n",
       "    .dataframe thead th {\n",
       "        text-align: right;\n",
       "    }\n",
       "</style>\n",
       "<table border=\"1\" class=\"dataframe\">\n",
       "  <thead>\n",
       "    <tr style=\"text-align: right;\">\n",
       "      <th></th>\n",
       "      <th>COUNTRY</th>\n",
       "      <th>name</th>\n",
       "      <th>region</th>\n",
       "      <th>obesityAdults_rate</th>\n",
       "      <th>TobaccoUse_perc</th>\n",
       "      <th>Alcohol_LitersPerCap</th>\n",
       "      <th>tobacco_code</th>\n",
       "      <th>tobacco_levels</th>\n",
       "      <th>tobacco_custom</th>\n",
       "      <th>alcohol_code</th>\n",
       "      <th>alcohol_levels</th>\n",
       "      <th>geometry</th>\n",
       "    </tr>\n",
       "  </thead>\n",
       "  <tbody>\n",
       "    <tr>\n",
       "      <th>0</th>\n",
       "      <td>Afghanistan</td>\n",
       "      <td>Afghanistan</td>\n",
       "      <td>South Asia</td>\n",
       "      <td>5.5</td>\n",
       "      <td>23.3</td>\n",
       "      <td>0.01</td>\n",
       "      <td>2</td>\n",
       "      <td>3.average</td>\n",
       "      <td>3.(15-30]</td>\n",
       "      <td>0</td>\n",
       "      <td>1.very low</td>\n",
       "      <td>MULTIPOLYGON (((61.27656 35.60725, 61.29638 35...</td>\n",
       "    </tr>\n",
       "    <tr>\n",
       "      <th>1</th>\n",
       "      <td>Algeria</td>\n",
       "      <td>Algeria</td>\n",
       "      <td>Africa</td>\n",
       "      <td>27.4</td>\n",
       "      <td>21.0</td>\n",
       "      <td>0.59</td>\n",
       "      <td>2</td>\n",
       "      <td>3.average</td>\n",
       "      <td>3.(15-30]</td>\n",
       "      <td>0</td>\n",
       "      <td>1.very low</td>\n",
       "      <td>MULTIPOLYGON (((-5.15213 30.18047, -5.13917 30...</td>\n",
       "    </tr>\n",
       "    <tr>\n",
       "      <th>2</th>\n",
       "      <td>Azerbaijan</td>\n",
       "      <td>Azerbaijan</td>\n",
       "      <td>Middle East</td>\n",
       "      <td>19.9</td>\n",
       "      <td>24.0</td>\n",
       "      <td>1.38</td>\n",
       "      <td>2</td>\n",
       "      <td>3.average</td>\n",
       "      <td>3.(15-30]</td>\n",
       "      <td>0</td>\n",
       "      <td>1.very low</td>\n",
       "      <td>MULTIPOLYGON (((46.54037 38.87559, 46.49554 38...</td>\n",
       "    </tr>\n",
       "    <tr>\n",
       "      <th>3</th>\n",
       "      <td>Albania</td>\n",
       "      <td>Albania</td>\n",
       "      <td>Europe</td>\n",
       "      <td>21.7</td>\n",
       "      <td>22.4</td>\n",
       "      <td>4.40</td>\n",
       "      <td>2</td>\n",
       "      <td>3.average</td>\n",
       "      <td>3.(15-30]</td>\n",
       "      <td>2</td>\n",
       "      <td>3.average</td>\n",
       "      <td>MULTIPOLYGON (((20.79192 40.43154, 20.78722 40...</td>\n",
       "    </tr>\n",
       "    <tr>\n",
       "      <th>4</th>\n",
       "      <td>Armenia</td>\n",
       "      <td>Armenia</td>\n",
       "      <td>Middle East</td>\n",
       "      <td>20.2</td>\n",
       "      <td>25.5</td>\n",
       "      <td>3.77</td>\n",
       "      <td>2</td>\n",
       "      <td>3.average</td>\n",
       "      <td>3.(15-30]</td>\n",
       "      <td>1</td>\n",
       "      <td>2.low</td>\n",
       "      <td>MULTIPOLYGON (((46.54037 38.87559, 46.51639 38...</td>\n",
       "    </tr>\n",
       "  </tbody>\n",
       "</table>\n",
       "</div>"
      ],
      "text/plain": [
       "       COUNTRY         name       region  obesityAdults_rate  TobaccoUse_perc  \\\n",
       "0  Afghanistan  Afghanistan   South Asia                 5.5             23.3   \n",
       "1      Algeria      Algeria       Africa                27.4             21.0   \n",
       "2   Azerbaijan   Azerbaijan  Middle East                19.9             24.0   \n",
       "3      Albania      Albania       Europe                21.7             22.4   \n",
       "4      Armenia      Armenia  Middle East                20.2             25.5   \n",
       "\n",
       "   Alcohol_LitersPerCap  tobacco_code tobacco_levels tobacco_custom  \\\n",
       "0                  0.01             2      3.average      3.(15-30]   \n",
       "1                  0.59             2      3.average      3.(15-30]   \n",
       "2                  1.38             2      3.average      3.(15-30]   \n",
       "3                  4.40             2      3.average      3.(15-30]   \n",
       "4                  3.77             2      3.average      3.(15-30]   \n",
       "\n",
       "   alcohol_code alcohol_levels  \\\n",
       "0             0     1.very low   \n",
       "1             0     1.very low   \n",
       "2             0     1.very low   \n",
       "3             2      3.average   \n",
       "4             1          2.low   \n",
       "\n",
       "                                            geometry  \n",
       "0  MULTIPOLYGON (((61.27656 35.60725, 61.29638 35...  \n",
       "1  MULTIPOLYGON (((-5.15213 30.18047, -5.13917 30...  \n",
       "2  MULTIPOLYGON (((46.54037 38.87559, 46.49554 38...  \n",
       "3  MULTIPOLYGON (((20.79192 40.43154, 20.78722 40...  \n",
       "4  MULTIPOLYGON (((46.54037 38.87559, 46.51639 38...  "
      ]
     },
     "execution_count": 5,
     "metadata": {},
     "output_type": "execute_result"
    }
   ],
   "source": [
    "#seeing the contents\n",
    "cia.head()"
   ]
  },
  {
   "cell_type": "markdown",
   "id": "411788b3-38f3-4c11-95ae-59ce9d7b096b",
   "metadata": {},
   "source": [
    "# Part 1: Finding the best scheme to get 5 bins of the variable obesity. The best is the one with the lowest ADCM."
   ]
  },
  {
   "cell_type": "code",
   "execution_count": 6,
   "id": "ba233f6d-caf8-4800-8cc1-ecaaba100e9c",
   "metadata": {},
   "outputs": [
    {
     "data": {
      "image/png": "[encoded data removed]",
      "text/plain": [
       "<Figure size 640x480 with 1 Axes>"
      ]
     },
     "metadata": {},
     "output_type": "display_data"
    }
   ],
   "source": [
    "import matplotlib.pyplot as plt\n",
    "\n",
    "cia.loc[:, 'obesityAdults_rate'].hist()\n",
    "plt.show();"
   ]
  },
  {
   "cell_type": "code",
   "execution_count": 10,
   "id": "b24ece43-a357-4ca0-8b6f-a789b2be8ab0",
   "metadata": {
    "collapsed": true,
    "jupyter": {
     "outputs_hidden": true
    }
   },
   "outputs": [
    {
     "name": "stdout",
     "output_type": "stream",
     "text": [
      "Requirement already satisfied: mapclassify in /Users/annalisegutierrez/Applications/anaconda3/lib/python3.12/site-packages (2.8.1)\n",
      "Requirement already satisfied: networkx>=2.7 in /Users/annalisegutierrez/Applications/anaconda3/lib/python3.12/site-packages (from mapclassify) (3.3)\n",
      "Requirement already satisfied: numpy>=1.23 in /Users/annalisegutierrez/Applications/anaconda3/lib/python3.12/site-packages (from mapclassify) (1.26.4)\n",
      "Requirement already satisfied: pandas!=1.5.0,>=1.4 in /Users/annalisegutierrez/Applications/anaconda3/lib/python3.12/site-packages (from mapclassify) (2.2.2)\n",
      "Requirement already satisfied: scikit-learn>=1.0 in /Users/annalisegutierrez/Applications/anaconda3/lib/python3.12/site-packages (from mapclassify) (1.5.1)\n",
      "Requirement already satisfied: scipy>=1.8 in /Users/annalisegutierrez/Applications/anaconda3/lib/python3.12/site-packages (from mapclassify) (1.13.1)\n",
      "Requirement already satisfied: python-dateutil>=2.8.2 in /Users/annalisegutierrez/Applications/anaconda3/lib/python3.12/site-packages (from pandas!=1.5.0,>=1.4->mapclassify) (2.9.0.post0)\n",
      "Requirement already satisfied: pytz>=2020.1 in /Users/annalisegutierrez/Applications/anaconda3/lib/python3.12/site-packages (from pandas!=1.5.0,>=1.4->mapclassify) (2024.1)\n",
      "Requirement already satisfied: tzdata>=2022.7 in /Users/annalisegutierrez/Applications/anaconda3/lib/python3.12/site-packages (from pandas!=1.5.0,>=1.4->mapclassify) (2023.3)\n",
      "Requirement already satisfied: joblib>=1.2.0 in /Users/annalisegutierrez/Applications/anaconda3/lib/python3.12/site-packages (from scikit-learn>=1.0->mapclassify) (1.4.2)\n",
      "Requirement already satisfied: threadpoolctl>=3.1.0 in /Users/annalisegutierrez/Applications/anaconda3/lib/python3.12/site-packages (from scikit-learn>=1.0->mapclassify) (3.5.0)\n",
      "Requirement already satisfied: six>=1.5 in /Users/annalisegutierrez/Applications/anaconda3/lib/python3.12/site-packages (from python-dateutil>=2.8.2->pandas!=1.5.0,>=1.4->mapclassify) (1.16.0)\n"
     ]
    }
   ],
   "source": [
    "#trying other bining schemes \n",
    "!pip install mapclassify "
   ]
  },
  {
   "cell_type": "code",
   "execution_count": 14,
   "id": "b57977de-68a7-4fe2-9a6e-db340f01b528",
   "metadata": {
    "collapsed": true,
    "jupyter": {
     "outputs_hidden": true
    }
   },
   "outputs": [
    {
     "data": {
      "image/png": "[encoded data removed]",
      "text/plain": [
       "<Figure size 640x480 with 1 Axes>"
      ]
     },
     "metadata": {},
     "output_type": "display_data"
    }
   ],
   "source": [
    "import mapclassify as mc\n",
    "import numpy as np \n",
    "import pandas as pd\n",
    "\n",
    "K = 5\n",
    "theVar = cia.obesityAdults_rate\n",
    "#trying different bining schemes\n",
    "ei5 = mc.EqualInterval(theVar, k = K) \n",
    "msd = mc.StdMean(theVar)\n",
    "q5 = mc.Quantiles(theVar, k = K) \n",
    "mb5 _= mc.MaximumBreaks(theVar, k = K) \n",
    "fj5 = mc.FisherJenks(theVar, k = K)\n",
    "jc5 = mc.JenksCaspall(theVar, k = K)\n",
    "mp5 = mc.MaxP(theVar, k = K)\n",
    "ht = mc.HeadTailBreaks(theVar) \n",
    "\n",
    "#collecting the Absolute deviation around class median (ADCM) for each classifer\n",
    "class5 = ei5, msd, q5, mb5, fj5, jc5, mp5, ht\n",
    "fits = np.array([c.adcm for c in class5]) #fetches adcm for each\n",
    "adcms = pd.DataFrame(fits) #converts score to df\n",
    "adcms['classifier'] = [c.name for c in class5] #adds classifer names \n",
    "adcms.columns = ['ADCM', 'Classifier']\n",
    "\n",
    "#plotting the adcms \n",
    "adcms.sort_values('ADCM').plot.barh(x='Classifier')\n",
    "plt.show();"
   ]
  },
  {
   "cell_type": "markdown",
   "id": "a243146f-5e67-4e94-9dbd-a39e9fb62b41",
   "metadata": {},
   "source": [
    "# Part 2. Use the scheme found in the previous step to bin the columns on alcohol and tobacco."
   ]
  },
  {
   "cell_type": "code",
   "execution_count": 15,
   "id": "62e93ca6-0e96-4185-9380-c4aeb1479b1a",
   "metadata": {},
   "outputs": [],
   "source": [
    "K = 5\n",
    "theVar2 = cia.TobaccoUse_perc \n",
    "theVar3 = cia.Alcohol_LitersPerCap\n",
    "#doing the best bining scheme for the alcohol and tobacco variables\n",
    "fj5_tob = mc.FisherJenks(theVar2, k = K)\n",
    "fj5_alc = mc.FisherJenks(theVar3, k = K)"
   ]
  },
  {
   "cell_type": "markdown",
   "id": "1bc02344-3356-427e-8586-b6189b76bc06",
   "metadata": {},
   "source": [
    "# Part 3. Find the countries that are doing the best in all three variables."
   ]
  },
  {
   "cell_type": "code",
   "execution_count": 27,
   "id": "abf4bd98-9d52-4658-9232-b9cb6c6c7a4d",
   "metadata": {},
   "outputs": [
    {
     "data": {
      "text/plain": [
       "alcohol_code\n",
       "0    45\n",
       "1    31\n",
       "4    26\n",
       "3    24\n",
       "2    21\n",
       "Name: count, dtype: int64"
      ]
     },
     "execution_count": 27,
     "metadata": {},
     "output_type": "execute_result"
    }
   ],
   "source": [
    "#looking how tobacco and alcohol are ranked\n",
    "cia.alcohol_code.value_counts()"
   ]
  },
  {
   "cell_type": "code",
   "execution_count": 33,
   "id": "bb142c7a-dea1-456b-a368-8e0cba908b44",
   "metadata": {},
   "outputs": [
    {
     "data": {
      "text/plain": [
       "alcohol_levels\n",
       "1.very low     45\n",
       "2.low          31\n",
       "5.very high    26\n",
       "4.high         24\n",
       "3.average      21\n",
       "Name: count, dtype: int64"
      ]
     },
     "execution_count": 33,
     "metadata": {},
     "output_type": "execute_result"
    }
   ],
   "source": [
    "cia.alcohol_levels.value_counts()"
   ]
  },
  {
   "cell_type": "code",
   "execution_count": 18,
   "id": "fb822db3-abcc-45eb-b0b4-1869425ca5ed",
   "metadata": {},
   "outputs": [
    {
     "data": {
      "text/plain": [
       "count    147.000000\n",
       "mean      19.506122\n",
       "std       10.253340\n",
       "min        2.100000\n",
       "25%        9.750000\n",
       "50%       20.800000\n",
       "75%       25.100000\n",
       "max       61.000000\n",
       "Name: obesityAdults_rate, dtype: float64"
      ]
     },
     "execution_count": 18,
     "metadata": {},
     "output_type": "execute_result"
    }
   ],
   "source": [
    "#find countries that rank very low in obesity, tobacco use, and alcohol \n",
    "#first i need to create custom bins that ranks obesity in the same levels as the others two variables \n",
    "\n",
    "#checking values\n",
    "cia.obesityAdults_rate.describe()\n"
   ]
  },
  {
   "cell_type": "code",
   "execution_count": 19,
   "id": "eb8dba89-2923-45c7-a52b-1d1d14aed334",
   "metadata": {},
   "outputs": [
    {
     "data": {
      "text/plain": [
       "obesityAdults_rate\n",
       "(-0.001, 5.0]     8\n",
       "(5.0, 15.0]      38\n",
       "(15.0, 30.0]     87\n",
       "(30.0, 40.0]     10\n",
       "(40.0, 100.0]     4\n",
       "Name: count, dtype: int64"
      ]
     },
     "execution_count": 19,
     "metadata": {},
     "output_type": "execute_result"
    }
   ],
   "source": [
    "#deciding on breaks for obesity\n",
    "customBreaks = [0, 5, 15, 30, 40, 100]\n",
    "pd.cut(cia.obesityAdults_rate, customBreaks, ordered = True, include_lowest = True).value_counts(sort=False)"
   ]
  },
  {
   "cell_type": "code",
   "execution_count": 30,
   "id": "e0cecf2f-cba1-4103-bcac-1bea743de228",
   "metadata": {},
   "outputs": [
    {
     "name": "stdout",
     "output_type": "stream",
     "text": [
      "<class 'geopandas.geodataframe.GeoDataFrame'>\n",
      "RangeIndex: 147 entries, 0 to 146\n",
      "Data columns (total 14 columns):\n",
      " #   Column                Non-Null Count  Dtype   \n",
      "---  ------                --------------  -----   \n",
      " 0   COUNTRY               147 non-null    object  \n",
      " 1   name                  147 non-null    object  \n",
      " 2   region                147 non-null    object  \n",
      " 3   obesityAdults_rate    147 non-null    float64 \n",
      " 4   TobaccoUse_perc       147 non-null    float64 \n",
      " 5   Alcohol_LitersPerCap  147 non-null    float64 \n",
      " 6   tobacco_code          147 non-null    int64   \n",
      " 7   tobacco_levels        147 non-null    object  \n",
      " 8   tobacco_custom        147 non-null    object  \n",
      " 9   alcohol_code          147 non-null    int64   \n",
      " 10  alcohol_levels        147 non-null    object  \n",
      " 11  geometry              147 non-null    geometry\n",
      " 12  obesity_levels        147 non-null    category\n",
      " 13  obesity_code          147 non-null    category\n",
      "dtypes: category(2), float64(3), geometry(1), int64(2), object(6)\n",
      "memory usage: 14.6+ KB\n"
     ]
    }
   ],
   "source": [
    "#save a new column with labels\n",
    "theCustomLabels=[0, 1, 2, 3, 4]\n",
    "cia['obesity_code']=pd.cut(cia.obesityAdults_rate, \n",
    "                                         customBreaks,\n",
    "                                         ordered=True,\n",
    "                                         include_lowest=True,\n",
    "                                         labels=theCustomLabels)\n",
    "cia.info()"
   ]
  },
  {
   "cell_type": "code",
   "execution_count": 31,
   "id": "3b85f295-142e-41d4-9ec7-cbcd3f24cb66",
   "metadata": {},
   "outputs": [
    {
     "data": {
      "text/plain": [
       "obesity_code\n",
       "2    87\n",
       "1    38\n",
       "3    10\n",
       "0     8\n",
       "4     4\n",
       "Name: count, dtype: int64"
      ]
     },
     "execution_count": 31,
     "metadata": {},
     "output_type": "execute_result"
    }
   ],
   "source": [
    "cia.obesity_code.value_counts()"
   ]
  },
  {
   "cell_type": "code",
   "execution_count": 37,
   "id": "69438d98-9960-4406-8a30-ba13c960301c",
   "metadata": {},
   "outputs": [
    {
     "data": {
      "text/html": [
       "<div>\n",
       "<style scoped>\n",
       "    .dataframe tbody tr th:only-of-type {\n",
       "        vertical-align: middle;\n",
       "    }\n",
       "\n",
       "    .dataframe tbody tr th {\n",
       "        vertical-align: top;\n",
       "    }\n",
       "\n",
       "    .dataframe thead th {\n",
       "        text-align: right;\n",
       "    }\n",
       "</style>\n",
       "<table border=\"1\" class=\"dataframe\">\n",
       "  <thead>\n",
       "    <tr style=\"text-align: right;\">\n",
       "      <th></th>\n",
       "      <th>COUNTRY</th>\n",
       "      <th>name</th>\n",
       "      <th>region</th>\n",
       "      <th>obesityAdults_rate</th>\n",
       "      <th>TobaccoUse_perc</th>\n",
       "      <th>Alcohol_LitersPerCap</th>\n",
       "      <th>tobacco_code</th>\n",
       "      <th>tobacco_levels</th>\n",
       "      <th>tobacco_custom</th>\n",
       "      <th>alcohol_code</th>\n",
       "      <th>alcohol_levels</th>\n",
       "      <th>geometry</th>\n",
       "      <th>obesity_levels</th>\n",
       "      <th>obesity_code</th>\n",
       "    </tr>\n",
       "  </thead>\n",
       "  <tbody>\n",
       "    <tr>\n",
       "      <th>42</th>\n",
       "      <td>Eritrea</td>\n",
       "      <td>Eritrea</td>\n",
       "      <td>Africa</td>\n",
       "      <td>5.0</td>\n",
       "      <td>7.5</td>\n",
       "      <td>0.93</td>\n",
       "      <td>0</td>\n",
       "      <td>1.very low</td>\n",
       "      <td>2.(5-15]</td>\n",
       "      <td>0</td>\n",
       "      <td>1.very low</td>\n",
       "      <td>MULTIPOLYGON (((42.06777 13.69778, 42.09027 13...</td>\n",
       "      <td>1. very low</td>\n",
       "      <td>0</td>\n",
       "    </tr>\n",
       "    <tr>\n",
       "      <th>44</th>\n",
       "      <td>Ethiopia</td>\n",
       "      <td>Ethiopia</td>\n",
       "      <td>Africa</td>\n",
       "      <td>4.5</td>\n",
       "      <td>5.1</td>\n",
       "      <td>1.16</td>\n",
       "      <td>0</td>\n",
       "      <td>1.very low</td>\n",
       "      <td>2.(5-15]</td>\n",
       "      <td>0</td>\n",
       "      <td>1.very low</td>\n",
       "      <td>MULTIPOLYGON (((45.4894 5.48976, 45.37447 5.36...</td>\n",
       "      <td>1. very low</td>\n",
       "      <td>0</td>\n",
       "    </tr>\n",
       "  </tbody>\n",
       "</table>\n",
       "</div>"
      ],
      "text/plain": [
       "     COUNTRY      name  region  obesityAdults_rate  TobaccoUse_perc  \\\n",
       "42   Eritrea   Eritrea  Africa                 5.0              7.5   \n",
       "44  Ethiopia  Ethiopia  Africa                 4.5              5.1   \n",
       "\n",
       "    Alcohol_LitersPerCap  tobacco_code tobacco_levels tobacco_custom  \\\n",
       "42                  0.93             0     1.very low       2.(5-15]   \n",
       "44                  1.16             0     1.very low       2.(5-15]   \n",
       "\n",
       "    alcohol_code alcohol_levels  \\\n",
       "42             0     1.very low   \n",
       "44             0     1.very low   \n",
       "\n",
       "                                             geometry obesity_levels  \\\n",
       "42  MULTIPOLYGON (((42.06777 13.69778, 42.09027 13...    1. very low   \n",
       "44  MULTIPOLYGON (((45.4894 5.48976, 45.37447 5.36...    1. very low   \n",
       "\n",
       "   obesity_code  \n",
       "42            0  \n",
       "44            0  "
      ]
     },
     "execution_count": 37,
     "metadata": {},
     "output_type": "execute_result"
    }
   ],
   "source": [
    "#now we can see what countries are doing the best in all three variables \n",
    "healthycountries = cia[(cia.obesity_code == 0) & (cia.tobacco_code == 0) & (cia.alcohol_code == 0)]\n",
    "healthycountries"
   ]
  },
  {
   "cell_type": "markdown",
   "id": "6593edfe-8e18-45ca-a04a-fc2bfbb014da",
   "metadata": {},
   "source": [
    "It looks like Eritrea and Ethiopia are the countries doing the best in obesity levels, tobacco levels, and alcohol levels, ranking \"very low\"."
   ]
  },
  {
   "cell_type": "markdown",
   "id": "8d6248b8-2602-4a71-9b6a-e652099cf2c8",
   "metadata": {},
   "source": [
    "# Part 4. Put the code for these first three steps in one file named code_hw1."
   ]
  },
  {
   "cell_type": "markdown",
   "id": "b5a04f0f-1d4d-4814-9763-eb8e1c5714a6",
   "metadata": {},
   "source": [
    "Let me save this information in a geopackage file: "
   ]
  },
  {
   "cell_type": "code",
   "execution_count": 38,
   "id": "006c3756-29c2-4bdd-8c91-3c20d06908bd",
   "metadata": {},
   "outputs": [
    {
     "name": "stdout",
     "output_type": "stream",
     "text": [
      "<class 'geopandas.geodataframe.GeoDataFrame'>\n",
      "RangeIndex: 147 entries, 0 to 146\n",
      "Data columns (total 14 columns):\n",
      " #   Column                Non-Null Count  Dtype   \n",
      "---  ------                --------------  -----   \n",
      " 0   COUNTRY               147 non-null    object  \n",
      " 1   name                  147 non-null    object  \n",
      " 2   region                147 non-null    object  \n",
      " 3   obesityAdults_rate    147 non-null    float64 \n",
      " 4   TobaccoUse_perc       147 non-null    float64 \n",
      " 5   Alcohol_LitersPerCap  147 non-null    float64 \n",
      " 6   tobacco_code          147 non-null    int64   \n",
      " 7   tobacco_levels        147 non-null    object  \n",
      " 8   tobacco_custom        147 non-null    object  \n",
      " 9   alcohol_code          147 non-null    int64   \n",
      " 10  alcohol_levels        147 non-null    object  \n",
      " 11  geometry              147 non-null    geometry\n",
      " 12  obesity_levels        147 non-null    category\n",
      " 13  obesity_code          147 non-null    category\n",
      "dtypes: category(2), float64(3), geometry(1), int64(2), object(6)\n",
      "memory usage: 14.6+ KB\n"
     ]
    }
   ],
   "source": [
    "cia.info()"
   ]
  },
  {
   "cell_type": "code",
   "execution_count": 45,
   "id": "680ff230-ebf7-44cc-b6d4-d651536e05de",
   "metadata": {},
   "outputs": [
    {
     "name": "stdout",
     "output_type": "stream",
     "text": [
      "<class 'geopandas.geodataframe.GeoDataFrame'>\n",
      "RangeIndex: 1 entries, 0 to 0\n",
      "Data columns (total 2 columns):\n",
      " #   Column    Non-Null Count  Dtype   \n",
      "---  ------    --------------  -----   \n",
      " 0   COUNTRY   1 non-null      object  \n",
      " 1   geometry  1 non-null      geometry\n",
      "dtypes: geometry(1), object(1)\n",
      "memory usage: 148.0+ bytes\n"
     ]
    }
   ],
   "source": [
    "border.info()"
   ]
  },
  {
   "cell_type": "code",
   "execution_count": 44,
   "id": "caeee498-4b7a-40d7-b62e-579f3f045b28",
   "metadata": {},
   "outputs": [
    {
     "data": {
      "text/html": [
       "<div>\n",
       "<style scoped>\n",
       "    .dataframe tbody tr th:only-of-type {\n",
       "        vertical-align: middle;\n",
       "    }\n",
       "\n",
       "    .dataframe tbody tr th {\n",
       "        vertical-align: top;\n",
       "    }\n",
       "\n",
       "    .dataframe thead th {\n",
       "        text-align: right;\n",
       "    }\n",
       "</style>\n",
       "<table border=\"1\" class=\"dataframe\">\n",
       "  <thead>\n",
       "    <tr style=\"text-align: right;\">\n",
       "      <th></th>\n",
       "      <th>name</th>\n",
       "      <th>geometry_type</th>\n",
       "    </tr>\n",
       "  </thead>\n",
       "  <tbody>\n",
       "    <tr>\n",
       "      <th>0</th>\n",
       "      <td>cia</td>\n",
       "      <td>MultiPolygon</td>\n",
       "    </tr>\n",
       "    <tr>\n",
       "      <th>1</th>\n",
       "      <td>border</td>\n",
       "      <td>MultiPolygon</td>\n",
       "    </tr>\n",
       "  </tbody>\n",
       "</table>\n",
       "</div>"
      ],
      "text/plain": [
       "     name geometry_type\n",
       "0     cia  MultiPolygon\n",
       "1  border  MultiPolygon"
      ]
     },
     "execution_count": 44,
     "metadata": {},
     "output_type": "execute_result"
    }
   ],
   "source": [
    "#layers in the orginal file\n",
    "import geopandas as gpd \n",
    "\n",
    "gpd.list_layers(mainLink)"
   ]
  },
  {
   "cell_type": "code",
   "execution_count": 48,
   "id": "5af14d5d-ce87-46f4-96a5-2acac5ba9dd2",
   "metadata": {
    "scrolled": true
   },
   "outputs": [],
   "source": [
    "cia.to_file('maps/countriesCIA.gpkg', driver='GPKG', layer='cia')\n",
    "border.to_file('maps/countriesCIA.gpkg', driver='GPKG', layer='border')"
   ]
  },
  {
   "cell_type": "markdown",
   "id": "e955df35-9b1d-44c6-bfc2-a7aa8c1461b0",
   "metadata": {},
   "source": [
    "# Part 5. This code will create a new file, as some variables have been binned. Just rewrite the layer (see line 57). This time this map file will be in your local repo HW1_repo; then commit and push it to GitHub cloud."
   ]
  }
 ],
 "metadata": {
  "kernelspec": {
   "display_name": "Python 3 (ipykernel)",
   "language": "python",
   "name": "python3"
  },
  "language_info": {
   "codemirror_mode": {
    "name": "ipython",
    "version": 3
   },
   "file_extension": ".py",
   "mimetype": "text/x-python",
   "name": "python",
   "nbconvert_exporter": "python",
   "pygments_lexer": "ipython3",
   "version": "3.12.7"
  }
 },
 "nbformat": 4,
 "nbformat_minor": 5
}
